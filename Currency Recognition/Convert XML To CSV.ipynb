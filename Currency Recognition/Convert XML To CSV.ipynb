{
 "cells": [
  {
   "cell_type": "code",
   "execution_count": 1,
   "id": "e9db969c",
   "metadata": {},
   "outputs": [],
   "source": [
    "import xml.etree.ElementTree as ET\n",
    "\n",
    "from os import listdir,mkdir\n",
    "from os.path import isdir, join, isfile, splitext\n",
    "import re\n",
    "from tqdm import tqdm"
   ]
  },
  {
   "cell_type": "code",
   "execution_count": 2,
   "id": "c8b8b217",
   "metadata": {},
   "outputs": [],
   "source": [
    "class Processing():\n",
    "    def __init__(self):\n",
    "        self.ANN_FILE = None\n",
    "        self.CLASSES = set()\n",
    "        self.CLASSES_file = None\n",
    "        self.COUNT_XML = set()\n",
    "        self.COUNT_IMAGES = set()\n",
    "        self.COUNT_BOXES = 0\n",
    "        \n",
    "    def xml_files_in_folder(self,folder):\n",
    "        return [join(folder, f) for f in listdir(folder) if re.match(r'.*\\.(xml|XML)', f, flags=re.I)]\n",
    "    \n",
    "    def init_file_csv(self,_path):\n",
    "        self.ANN_FILE = open(_path ,'w')\n",
    "                \n",
    "    def write_file_csv(self,row):\n",
    "        _path,x,y,x2,y2,label = row\n",
    "        insert_row = f'{_path},{x},{y},{x2},{y2},{label}'\n",
    "        self.ANN_FILE.write(insert_row)\n",
    "        self.ANN_FILE.write('\\n')\n",
    "        \n",
    "    def read_xml_file(self, _file):\n",
    "        self.COUNT_XML.add(_file)\n",
    "        tree = ET.parse(_file)\n",
    "        root = tree.getroot()\n",
    "        for boxes in root.iter('object'):\n",
    "            filename = root.find('filename').text\n",
    "            full_path = _file.replace(splitext(_file)[1], splitext(filename)[1])\n",
    "            label = boxes.find('name').text\n",
    "            ymin, xmin, ymax, xmax = None, None, None, None\n",
    "\n",
    "            ymin = int(boxes.find(\"bndbox/ymin\").text)\n",
    "            xmin = int(boxes.find(\"bndbox/xmin\").text)\n",
    "            ymax = int(boxes.find(\"bndbox/ymax\").text)\n",
    "            xmax = int(boxes.find(\"bndbox/xmax\").text)\n",
    "\n",
    "            one_line = [full_path, xmin, ymin, xmax, ymax, label]\n",
    "            self.write_file_csv(one_line)\n",
    "            self.CLASSES.add(label)\n",
    "            \n",
    "            self.COUNT_IMAGES.add(filename)\n",
    "            self.COUNT_BOXES +=1\n",
    "            \n",
    "    def write_classes_csv(self):\n",
    "        with open(self.CLASSES_file,'w') as classes_file:\n",
    "            for id ,cl in enumerate(self.CLASSES):\n",
    "               classes_file.write('{},{}'.format(cl ,id))\n",
    "               classes_file.write('\\n')  \n",
    "        classes_file.close()\n",
    "        \n",
    "    def Done(self):\n",
    "        self.ANN_FILE.close()\n",
    "        \n",
    "        \n",
    "class Big_Engine():\n",
    "    def __init__(self):\n",
    "        self.PATH_DATA = None\n",
    "        self.Processing = Processing()\n",
    "        \n",
    "    def SETUP(self,data:str, ann_file:str, classes_file:str):\n",
    "        self.PATH_DATA = data\n",
    "        self.Processing.CLASSES_file = classes_file\n",
    "        self.Processing.init_file_csv(ann_file)\n",
    "          \n",
    "    def RUN(self):\n",
    "       for sub_dir in tqdm(listdir(self.PATH_DATA)):\n",
    "          end_dir = join(self.PATH_DATA, sub_dir)\n",
    "          if not isdir(end_dir):\n",
    "                continue\n",
    "          for xml_path in self.Processing.xml_files_in_folder(end_dir):\n",
    "              self.Processing.read_xml_file(xml_path)\n",
    "    def PrintData(self):\n",
    "        print(f\"[Count Xml files]  | {len(self.Processing.COUNT_XML)}\")\n",
    "        print(f\"[Count Images]  | {len(self.Processing.COUNT_IMAGES)}\")\n",
    "        print(f\"[Count Classes]  | {len(self.Processing.CLASSES)}\")\n",
    "        print(f\"[Count BOXES]  | {self.Processing.COUNT_BOXES}\")\n",
    "        \n",
    "    def SetEnd(self):\n",
    "        self.Processing.write_classes_csv()\n",
    "        self.Processing.Done()\n",
    "        self.PrintData()\n",
    "        print(\"[bye] - Done..\")"
   ]
  },
  {
   "cell_type": "code",
   "execution_count": 3,
   "id": "67059b66",
   "metadata": {},
   "outputs": [
    {
     "name": "stderr",
     "output_type": "stream",
     "text": [
      "100%|██████████████████████████████████████████████████████████████████████████████████| 10/10 [01:19<00:00,  7.96s/it]"
     ]
    },
    {
     "name": "stdout",
     "output_type": "stream",
     "text": [
      "[Count Xml files]  | 9000\n",
      "[Count Images]  | 9000\n",
      "[Count Classes]  | 6\n",
      "[Count BOXES]  | 17323\n",
      "[bye] - Done..\n"
     ]
    },
    {
     "name": "stderr",
     "output_type": "stream",
     "text": [
      "\n"
     ]
    }
   ],
   "source": [
    "LetsGo = Big_Engine()\n",
    "LetsGo.SETUP(data='F:\\College\\College\\Year 4\\Graduation Project\\Dataset', ann_file='annotation_custom.csv', classes_file='classes_n.csv')\n",
    "LetsGo.RUN()\n",
    "LetsGo.SetEnd()"
   ]
  },
  {
   "cell_type": "code",
   "execution_count": null,
   "id": "694b5b8d",
   "metadata": {},
   "outputs": [],
   "source": []
  }
 ],
 "metadata": {
  "kernelspec": {
   "display_name": "Python 3",
   "language": "python",
   "name": "python3"
  },
  "language_info": {
   "codemirror_mode": {
    "name": "ipython",
    "version": 3
   },
   "file_extension": ".py",
   "mimetype": "text/x-python",
   "name": "python",
   "nbconvert_exporter": "python",
   "pygments_lexer": "ipython3",
   "version": "3.6.13"
  }
 },
 "nbformat": 4,
 "nbformat_minor": 5
}
